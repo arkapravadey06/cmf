{
 "cells": [
  {
   "cell_type": "code",
   "execution_count": 1,
   "metadata": {},
   "outputs": [],
   "source": [
    "import os\n",
    "import shutil"
   ]
  },
  {
   "cell_type": "markdown",
   "metadata": {},
   "source": [
    "# Labelling"
   ]
  },
  {
   "cell_type": "code",
   "execution_count": 7,
   "metadata": {},
   "outputs": [],
   "source": [
    "# os.listdir('CoMoFoD_small_v2')\n",
    "os.makedirs(\"CoMoFoD_small_v2/fold4/original\")\n",
    "os.makedirs(\"CoMoFoD_small_v2/fold4/forged\")"
   ]
  },
  {
   "cell_type": "code",
   "execution_count": 19,
   "metadata": {},
   "outputs": [],
   "source": [
    "original = 0\n",
    "forged = 0\n",
    "for image in os.listdir(\"CoMoFoD_small_v2\"):\n",
    "    try:\n",
    "        label = image.split('_')[1]\n",
    "    except IndexError:\n",
    "        pass\n",
    "    else:\n",
    "        if label == 'O':\n",
    "            original += 1\n",
    "        if label == 'F':\n",
    "            forged += 1"
   ]
  },
  {
   "cell_type": "code",
   "execution_count": 20,
   "metadata": {},
   "outputs": [
    {
     "data": {
      "text/plain": [
       "(4800, 4800)"
      ]
     },
     "execution_count": 20,
     "metadata": {},
     "output_type": "execute_result"
    }
   ],
   "source": [
    "original, forged"
   ]
  },
  {
   "cell_type": "code",
   "execution_count": 17,
   "metadata": {},
   "outputs": [],
   "source": [
    "fold = 0\n",
    "original = 0\n",
    "forged = 0\n",
    "for imageFile in os.listdir(\"CoMoFoD_small_v2\"):\n",
    "    if original == 2 and forged == 2:\n",
    "        fold += 1\n",
    "        original = 0\n",
    "        forged = 0\n",
    "        break\n",
    "    try:\n",
    "        label = image.split('_')[1]\n",
    "    except IndexError:\n",
    "        pass\n",
    "    else:\n",
    "        src = f\"CoMoFoD_small_v2/{imageFile}\"\n",
    "        if label == 'O' and original <= 2000:\n",
    "            dst = f\"CoMoFoD_small_v2/fold{fold}/oroginal/{imageFile}\"\n",
    "            shutil.move(src=src, dst=dst)\n",
    "            original += 1\n",
    "        if label == 'F' and forged <= 2000:\n",
    "            dst = f\"CoMoFoD_small_v2/fold{fold}/forged/{imageFile}\"\n",
    "            shutil.move(src=src, dst=dst)\n",
    "            forged += 1\n"
   ]
  },
  {
   "cell_type": "code",
   "execution_count": 18,
   "metadata": {},
   "outputs": [
    {
     "data": {
      "text/plain": [
       "0"
      ]
     },
     "execution_count": 18,
     "metadata": {},
     "output_type": "execute_result"
    }
   ],
   "source": [
    "fold"
   ]
  },
  {
   "cell_type": "code",
   "execution_count": null,
   "metadata": {},
   "outputs": [],
   "source": []
  }
 ],
 "metadata": {
  "kernelspec": {
   "display_name": "Python 3",
   "language": "python",
   "name": "python3"
  },
  "language_info": {
   "codemirror_mode": {
    "name": "ipython",
    "version": 3
   },
   "file_extension": ".py",
   "mimetype": "text/x-python",
   "name": "python",
   "nbconvert_exporter": "python",
   "pygments_lexer": "ipython3",
   "version": "3.10.6"
  },
  "orig_nbformat": 4
 },
 "nbformat": 4,
 "nbformat_minor": 2
}
