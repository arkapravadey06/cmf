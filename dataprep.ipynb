{
 "cells": [
  {
   "cell_type": "code",
   "execution_count": 2,
   "metadata": {},
   "outputs": [],
   "source": [
    "import os\n",
    "import shutil"
   ]
  },
  {
   "cell_type": "markdown",
   "metadata": {},
   "source": [
    "# Labelling"
   ]
  },
  {
   "cell_type": "code",
   "execution_count": null,
   "metadata": {},
   "outputs": [],
   "source": [
    "# os.listdir('CoMoFoD_small_v2')\n",
    "os.makedirs(\"CoMoFoD_small_v2/fold4/original\")\n",
    "os.makedirs(\"CoMoFoD_small_v2/fold4/forged\")"
   ]
  },
  {
   "cell_type": "code",
   "execution_count": 3,
   "metadata": {},
   "outputs": [],
   "source": [
    "original = 0\n",
    "forged = 0\n",
    "for image in os.listdir(\"CoMoFoD_small_v2\"):\n",
    "    try:\n",
    "        label = image.split('_')[1]\n",
    "    except IndexError:\n",
    "        pass\n",
    "    else:\n",
    "        if label == 'O':\n",
    "            original += 1\n",
    "        if label == 'F':\n",
    "            forged += 1"
   ]
  },
  {
   "cell_type": "code",
   "execution_count": 4,
   "metadata": {},
   "outputs": [
    {
     "data": {
      "text/plain": [
       "(4800, 4800)"
      ]
     },
     "execution_count": 4,
     "metadata": {},
     "output_type": "execute_result"
    }
   ],
   "source": [
    "original, forged"
   ]
  },
  {
   "cell_type": "code",
   "execution_count": 42,
   "metadata": {},
   "outputs": [],
   "source": [
    "fold = 0\n",
    "original = 1\n",
    "forged = 1\n",
    "for imageFile in os.listdir(\"CoMoFoD_small_v2\"):\n",
    "    # print(imageFile)\n",
    "    if original == 2000 and forged == 2000:\n",
    "        fold += 1\n",
    "        original = 1\n",
    "        forged = 1\n",
    "    try:\n",
    "        label = imageFile.split('_')[1]\n",
    "    except IndexError:\n",
    "        continue\n",
    "\n",
    "    src = f'.\\\\CoMoFoD_small_v2\\\\{imageFile}'\n",
    "    # print(label)\n",
    "    if label == 'O' and original < 2000:\n",
    "        dst = f\".\\\\CoMoFoD_small_v2\\\\fold{fold}\\\\original\\\\{imageFile}\"\n",
    "        shutil.move(src=src, dst=dst, copy_function=shutil.copyfile)\n",
    "        original += 1\n",
    "    if label == 'F' and forged < 2000:\n",
    "        dst = f\".\\\\CoMoFoD_small_v2\\\\fold{fold}\\\\forged\\\\{imageFile}\"\n",
    "        shutil.move(src=src, dst=dst, copy_function=shutil.copyfile)\n",
    "        forged += 1\n"
   ]
  },
  {
   "cell_type": "code",
   "execution_count": 38,
   "metadata": {},
   "outputs": [
    {
     "data": {
      "text/plain": [
       "0"
      ]
     },
     "execution_count": 38,
     "metadata": {},
     "output_type": "execute_result"
    }
   ],
   "source": [
    "fold"
   ]
  },
  {
   "cell_type": "code",
   "execution_count": 25,
   "metadata": {},
   "outputs": [
    {
     "data": {
      "text/plain": [
       "'.\\\\CoMoFoD_small_v2\\\\fold0\\\\forged\\\\001_F_BC1.png'"
      ]
     },
     "execution_count": 25,
     "metadata": {},
     "output_type": "execute_result"
    }
   ],
   "source": [
    "shutil.move(src='.\\\\CoMoFoD_small_v2\\\\001_F_BC1.png',\n",
    "            dst='.\\\\CoMoFoD_small_v2\\\\fold0\\\\forged\\\\001_F_BC1.png', copy_function=shutil.copyfile)\n",
    "\n",
    "# with open()\n"
   ]
  },
  {
   "cell_type": "code",
   "execution_count": 44,
   "metadata": {},
   "outputs": [
    {
     "data": {
      "text/plain": [
       "1999"
      ]
     },
     "execution_count": 44,
     "metadata": {},
     "output_type": "execute_result"
    }
   ],
   "source": [
    "len(os.listdir('.\\\\CoMoFoD_small_v2\\\\fold0\\\\forged'))"
   ]
  },
  {
   "cell_type": "code",
   "execution_count": null,
   "metadata": {},
   "outputs": [],
   "source": []
  }
 ],
 "metadata": {
  "kernelspec": {
   "display_name": "Python 3",
   "language": "python",
   "name": "python3"
  },
  "language_info": {
   "codemirror_mode": {
    "name": "ipython",
    "version": 3
   },
   "file_extension": ".py",
   "mimetype": "text/x-python",
   "name": "python",
   "nbconvert_exporter": "python",
   "pygments_lexer": "ipython3",
   "version": "3.10.6"
  },
  "orig_nbformat": 4
 },
 "nbformat": 4,
 "nbformat_minor": 2
}
